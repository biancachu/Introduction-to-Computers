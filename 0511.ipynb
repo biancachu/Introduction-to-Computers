{
  "nbformat": 4,
  "nbformat_minor": 0,
  "metadata": {
    "colab": {
      "name": "0511.ipynb",
      "provenance": [],
      "collapsed_sections": [],
      "authorship_tag": "ABX9TyNnEXh4XD9Th4WU0PtBDER6",
      "include_colab_link": true
    },
    "kernelspec": {
      "name": "python3",
      "display_name": "Python 3"
    },
    "language_info": {
      "name": "python"
    }
  },
  "cells": [
    {
      "cell_type": "markdown",
      "metadata": {
        "id": "view-in-github",
        "colab_type": "text"
      },
      "source": [
        "<a href=\"https://colab.research.google.com/github/biancachu/Introduction-to-Computers/blob/main/0511.ipynb\" target=\"_parent\"><img src=\"https://colab.research.google.com/assets/colab-badge.svg\" alt=\"Open In Colab\"/></a>"
      ]
    },
    {
      "cell_type": "code",
      "execution_count": 1,
      "metadata": {
        "colab": {
          "base_uri": "https://localhost:8080/"
        },
        "id": "mXisMakDg_8g",
        "outputId": "57753277-539d-4f55-ae1b-74e7fa4d59b9"
      },
      "outputs": [
        {
          "output_type": "stream",
          "name": "stdout",
          "text": [
            "請輸入你的體溫37\n",
            "體溫略高!\n"
          ]
        }
      ],
      "source": [
        "temp = float(input('請輸入你的體溫'))\n",
        "if temp >= 37.5:\n",
        "  print('體溫過高!')\n",
        "elif temp >=37 and temp <37.4:\n",
        "  print('體溫略高!')\n",
        "elif temp >= 34 and temp <36.9:\n",
        "  print('體溫正常!')\n",
        "else:\n",
        "  print('體溫異常，請重新測量!')"
      ]
    },
    {
      "cell_type": "code",
      "source": [
        "money = int(input('請輸入購物金額:'))\n",
        "if (money >= 10000):\n",
        "  if(money >= 100000):\n",
        "    print('八折', money * 0.8, end = '元\\n')\n",
        "  elif(money >= 50000):\n",
        "    print('八五折', money * 0.85, end = '元\\n')\n",
        "  elif(money >= 30000):\n",
        "    print('九折', money * 0.9, end = '元\\n')  \n",
        "  else:\n",
        "    print('九五折', money * 0.95, end = '元\\n')\n",
        "else:\n",
        "  print('沒打折',money, end= '元\\n')"
      ],
      "metadata": {
        "colab": {
          "base_uri": "https://localhost:8080/"
        },
        "id": "x7VSZS9glGsh",
        "outputId": "378f5924-86a8-441e-b19b-e6fe7fa3cf2e"
      },
      "execution_count": 6,
      "outputs": [
        {
          "output_type": "stream",
          "name": "stdout",
          "text": [
            "請輸入購物金額:50000\n",
            "八五折 42500.0元\n"
          ]
        }
      ]
    },
    {
      "cell_type": "code",
      "source": [
        "grade = int(input('請輸入成績:'))\n",
        "if (grade >= 60):\n",
        "  if (grade >= 90):\n",
        "    print('A')\n",
        "  elif (grade >= 80 and grade < 89):\n",
        "    print('B')\n",
        "  elif (grade >= 70 and grade < 79):\n",
        "    print('C')\n",
        "  elif (grade >= 60 and grade < 69):\n",
        "    print('D')\n",
        "  else:\n",
        "    print('E')"
      ],
      "metadata": {
        "colab": {
          "base_uri": "https://localhost:8080/"
        },
        "id": "FxvBNuMrplmw",
        "outputId": "e9385944-7bbb-4153-f770-0217846a8ddc"
      },
      "execution_count": 8,
      "outputs": [
        {
          "output_type": "stream",
          "name": "stdout",
          "text": [
            "請輸入成績:90\n",
            "A\n"
          ]
        }
      ]
    },
    {
      "cell_type": "code",
      "source": [
        "seasons = int(input('請輸入月份:'))\n",
        "if (seasons >= 3 and seasons <= 5):\n",
        "  print(seasons, end = '月是春天!')\n",
        "elif (seasons >= 6 and seasons <= 8):\n",
        "  print(seasons, end = '月是夏天!')\n",
        "elif (seasons >= 9 and seasons <= 11):\n",
        "  print(seasons, end = '月是秋天!')\n",
        "elif (seasons == 12 or 1 or 2 ):\n",
        "  print(seasons, end = '月是冬天!')\n",
        "else:\n",
        "  print('月份不再範圍內!')"
      ],
      "metadata": {
        "colab": {
          "base_uri": "https://localhost:8080/"
        },
        "id": "OvoBm8QauSzR",
        "outputId": "8c346a0c-34fa-4516-8ce3-dd384be4efc0"
      },
      "execution_count": 1,
      "outputs": [
        {
          "output_type": "stream",
          "name": "stdout",
          "text": [
            "請輸入月份:1\n",
            "1月是冬天!"
          ]
        }
      ]
    },
    {
      "cell_type": "code",
      "source": [
        "tax = int(input('請輸入今年收入淨額:'))\n",
        "if (tax >= 100000):\n",
        "  if (tax >= 2000000):\n",
        "    print('付稅金額', tax * 0.3, '元')\n",
        "  elif (tax >= 1000000):\n",
        "    print('付稅金額', tax * 0.21, '元')\n",
        "  elif (tax >= 600000):\n",
        "    print('付稅金額', tax * 0.13, '元')\n",
        "  elif (tax >= 300000):\n",
        "    print('付稅金額', tax * 0.06, '元')\n",
        "  elif (tax < 299999):\n",
        "    print('付稅金額:', 0, '元')"
      ],
      "metadata": {
        "colab": {
          "base_uri": "https://localhost:8080/"
        },
        "id": "d7EnHm3lyeE1",
        "outputId": "3cb7f0bc-ff20-4205-a7aa-a02b2dc163e8"
      },
      "execution_count": 29,
      "outputs": [
        {
          "output_type": "stream",
          "name": "stdout",
          "text": [
            "請輸入今年收入淨額:100000\n",
            "付稅金額: 0 元\n"
          ]
        }
      ]
    }
  ]
}