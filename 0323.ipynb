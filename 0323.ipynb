{
  "nbformat": 4,
  "nbformat_minor": 0,
  "metadata": {
    "colab": {
      "name": "0323.ipynb",
      "provenance": [],
      "authorship_tag": "ABX9TyORTpow+tVtY8dz7K1RQCmG",
      "include_colab_link": true
    },
    "kernelspec": {
      "name": "python3",
      "display_name": "Python 3"
    },
    "language_info": {
      "name": "python"
    }
  },
  "cells": [
    {
      "cell_type": "markdown",
      "metadata": {
        "id": "view-in-github",
        "colab_type": "text"
      },
      "source": [
        "<a href=\"https://colab.research.google.com/github/biancachu/Introduction-to-Computers/blob/main/0323.ipynb\" target=\"_parent\"><img src=\"https://colab.research.google.com/assets/colab-badge.svg\" alt=\"Open In Colab\"/></a>"
      ]
    },
    {
      "cell_type": "code",
      "execution_count": 1,
      "metadata": {
        "colab": {
          "base_uri": "https://localhost:8080/",
          "height": 0
        },
        "id": "ycAijCdLIo4A",
        "outputId": "2a0cbbd6-34d2-459d-950c-c1f2f985956a"
      },
      "outputs": [
        {
          "output_type": "execute_result",
          "data": {
            "text/plain": [
              "15"
            ]
          },
          "metadata": {},
          "execution_count": 1
        }
      ],
      "source": [
        "12+3"
      ]
    },
    {
      "cell_type": "code",
      "source": [
        "12-3"
      ],
      "metadata": {
        "colab": {
          "base_uri": "https://localhost:8080/"
        },
        "id": "gPlufsUXKTnT",
        "outputId": "649cd4c6-11d7-40a6-e45f-26088b98edba"
      },
      "execution_count": 3,
      "outputs": [
        {
          "output_type": "execute_result",
          "data": {
            "text/plain": [
              "9"
            ]
          },
          "metadata": {},
          "execution_count": 3
        }
      ]
    },
    {
      "cell_type": "code",
      "source": [
        "12*3"
      ],
      "metadata": {
        "colab": {
          "base_uri": "https://localhost:8080/"
        },
        "id": "zZF8AT6AJma0",
        "outputId": "bb95d6e8-2f76-477e-866c-aa19a1e39ac7"
      },
      "execution_count": 2,
      "outputs": [
        {
          "output_type": "execute_result",
          "data": {
            "text/plain": [
              "36"
            ]
          },
          "metadata": {},
          "execution_count": 2
        }
      ]
    },
    {
      "cell_type": "code",
      "source": [
        "32/5"
      ],
      "metadata": {
        "colab": {
          "base_uri": "https://localhost:8080/"
        },
        "id": "CcFvRFx-KC2S",
        "outputId": "8e943308-e897-4835-8214-f3855f1cb198"
      },
      "execution_count": 4,
      "outputs": [
        {
          "output_type": "execute_result",
          "data": {
            "text/plain": [
              "6.4"
            ]
          },
          "metadata": {},
          "execution_count": 4
        }
      ]
    },
    {
      "cell_type": "code",
      "source": [
        "32//5"
      ],
      "metadata": {
        "colab": {
          "base_uri": "https://localhost:8080/"
        },
        "id": "FeP3iNtNKYVm",
        "outputId": "f9d179d3-b679-4538-d24f-94072b45121b"
      },
      "execution_count": 5,
      "outputs": [
        {
          "output_type": "execute_result",
          "data": {
            "text/plain": [
              "6"
            ]
          },
          "metadata": {},
          "execution_count": 5
        }
      ]
    },
    {
      "cell_type": "code",
      "source": [
        "7**4"
      ],
      "metadata": {
        "colab": {
          "base_uri": "https://localhost:8080/"
        },
        "id": "FVbj8WDfKgiL",
        "outputId": "cb3ae088-9a59-4ea0-b92a-0508dcd9d315"
      },
      "execution_count": 8,
      "outputs": [
        {
          "output_type": "execute_result",
          "data": {
            "text/plain": [
              "2401"
            ]
          },
          "metadata": {},
          "execution_count": 8
        }
      ]
    },
    {
      "cell_type": "code",
      "source": [
        "32%2"
      ],
      "metadata": {
        "colab": {
          "base_uri": "https://localhost:8080/"
        },
        "id": "y3bAey9hKyrN",
        "outputId": "e331432a-7b67-4f89-c5e2-fd9c3d231875"
      },
      "execution_count": 9,
      "outputs": [
        {
          "output_type": "execute_result",
          "data": {
            "text/plain": [
              "0"
            ]
          },
          "metadata": {},
          "execution_count": 9
        }
      ]
    },
    {
      "cell_type": "code",
      "source": [
        "上底 = int(input('請輸入梯形上底長度:'))\n",
        "下底 = int(input('請輸入梯形下底長度:'))\n",
        "高 = int(input('請輸入梯形高長度:'))\n",
        "面積 = (上底 + 下底 ) * 高 / 2\n",
        "print('上底長度為:',上底,'下底長度為:',下底,'高度為:',高,'梯形面積為',面積)"
      ],
      "metadata": {
        "colab": {
          "base_uri": "https://localhost:8080/"
        },
        "id": "1kTt_xDfK3RX",
        "outputId": "cbc0f3dc-3d6c-411a-c197-43378791728b"
      },
      "execution_count": 13,
      "outputs": [
        {
          "output_type": "stream",
          "name": "stdout",
          "text": [
            "請輸入梯形上底長度:3\n",
            "請輸入梯形下底長度:4\n",
            "請輸入梯形高長度:3\n",
            "上底長度為: 3 下底長度為: 4 高度為: 3 梯形面積為 10.5\n"
          ]
        }
      ]
    },
    {
      "cell_type": "code",
      "source": [
        "print('梯形下底長度為: %d, 梯形下底長度為: %d, 梯形高度為; %d, 梯形面積為: %d' % (上底, 下底, 高, 面積))"
      ],
      "metadata": {
        "colab": {
          "base_uri": "https://localhost:8080/"
        },
        "id": "PJKKuZygMJnF",
        "outputId": "05f37ac5-1245-488b-e723-52f1b8c37fee"
      },
      "execution_count": 28,
      "outputs": [
        {
          "output_type": "stream",
          "name": "stdout",
          "text": [
            "梯形下底長度為: 3, 梯形下底長度為: 4, 梯形高度為; 3, 梯形面積為: 10\n"
          ]
        }
      ]
    },
    {
      "cell_type": "code",
      "source": [
        "print('梯形下底長度為: %f, 梯形下底長度為: %f, 梯形高度為; %f, 梯形面積為: %f '% (上底, 下底, 高, 面積))"
      ],
      "metadata": {
        "colab": {
          "base_uri": "https://localhost:8080/"
        },
        "id": "i8M1BN-ZTuUI",
        "outputId": "b738e2dc-6eb9-4434-90f7-07ac89a0c4a5"
      },
      "execution_count": 27,
      "outputs": [
        {
          "output_type": "stream",
          "name": "stdout",
          "text": [
            "梯形下底長度為: 3.000000, 梯形下底長度為: 4.000000, 梯形高度為; 3.000000, 梯形面積為: 10.500000 \n"
          ]
        }
      ]
    },
    {
      "cell_type": "code",
      "source": [
        "print('梯形下底長度為: %f, 梯形下底長度為: %f, 梯形高度為; %f, 梯形面積為: %0.1f '% (上底, 下底, 高, 面積))"
      ],
      "metadata": {
        "colab": {
          "base_uri": "https://localhost:8080/"
        },
        "id": "1pd2XvImUKxc",
        "outputId": "839191e8-f7be-49dc-ba5a-66ce27a2bf2c"
      },
      "execution_count": 26,
      "outputs": [
        {
          "output_type": "stream",
          "name": "stdout",
          "text": [
            "梯形下底長度為: 3.000000, 梯形下底長度為: 4.000000, 梯形高度為; 3.000000, 梯形面積為: 10.5 \n"
          ]
        }
      ]
    },
    {
      "cell_type": "code",
      "source": [
        "a = 1.1\n",
        "b = 2.02\n",
        "c = 3.003"
      ],
      "metadata": {
        "id": "2qxsVnLhU3Hr"
      },
      "execution_count": 21,
      "outputs": []
    },
    {
      "cell_type": "code",
      "source": [
        "print(' a=%0.1f, b=%0.2f, c=%0.3f' %(a, b, c))"
      ],
      "metadata": {
        "colab": {
          "base_uri": "https://localhost:8080/"
        },
        "id": "bKxFyZesVI3Z",
        "outputId": "43dff3bc-b721-423d-bb38-0fcabafc6aa2"
      },
      "execution_count": 29,
      "outputs": [
        {
          "output_type": "stream",
          "name": "stdout",
          "text": [
            " a=1.1, b=2.02, c=3.003\n"
          ]
        }
      ]
    },
    {
      "cell_type": "code",
      "source": [
        " 身高 = int(input('請輸入您的身高(cm):'))\n",
        " 體重 = int(input('請輸入您的體重(kg):'))\n",
        " BMI = 體重/(身高/100)**2\n",
        " print('身高: %d 公分, 體重: %d, 公斤, BMI: %0.2f '% (身高, 體重, BMI))"
      ],
      "metadata": {
        "colab": {
          "base_uri": "https://localhost:8080/"
        },
        "id": "PXwx60u-WvQx",
        "outputId": "933b4e04-c284-4c59-bd9e-f6666293fc13"
      },
      "execution_count": 36,
      "outputs": [
        {
          "output_type": "stream",
          "name": "stdout",
          "text": [
            "請輸入您的身高(cm):180\n",
            "請輸入您的體重(kg):80\n",
            "身高: 180 公分, 體重: 80, 公斤, BMI: 24.69 \n"
          ]
        }
      ]
    },
    {
      "cell_type": "code",
      "source": [
        "1==2"
      ],
      "metadata": {
        "colab": {
          "base_uri": "https://localhost:8080/"
        },
        "id": "BiBjoWFFcfi3",
        "outputId": "18f634c4-5a8e-4eed-c713-cba3dd6fe91b"
      },
      "execution_count": 37,
      "outputs": [
        {
          "output_type": "execute_result",
          "data": {
            "text/plain": [
              "False"
            ]
          },
          "metadata": {},
          "execution_count": 37
        }
      ]
    },
    {
      "cell_type": "code",
      "source": [
        "6+9==2+13"
      ],
      "metadata": {
        "colab": {
          "base_uri": "https://localhost:8080/"
        },
        "id": "tSPwHH0ocpnh",
        "outputId": "8d81bc88-ccb9-48dd-ab56-cb6c0c028448"
      },
      "execution_count": 38,
      "outputs": [
        {
          "output_type": "execute_result",
          "data": {
            "text/plain": [
              "True"
            ]
          },
          "metadata": {},
          "execution_count": 38
        }
      ]
    },
    {
      "cell_type": "code",
      "source": [
        "2<3"
      ],
      "metadata": {
        "colab": {
          "base_uri": "https://localhost:8080/"
        },
        "id": "PclV7HducvFN",
        "outputId": "fea5272b-ce53-4e53-9d96-26b8e86cb4b4"
      },
      "execution_count": 39,
      "outputs": [
        {
          "output_type": "execute_result",
          "data": {
            "text/plain": [
              "True"
            ]
          },
          "metadata": {},
          "execution_count": 39
        }
      ]
    },
    {
      "cell_type": "code",
      "source": [
        "2>3"
      ],
      "metadata": {
        "colab": {
          "base_uri": "https://localhost:8080/"
        },
        "id": "MLrLHr5Ecy8v",
        "outputId": "4cc48df9-8c55-4112-b7bc-86142dab1f3e"
      },
      "execution_count": 40,
      "outputs": [
        {
          "output_type": "execute_result",
          "data": {
            "text/plain": [
              "False"
            ]
          },
          "metadata": {},
          "execution_count": 40
        }
      ]
    },
    {
      "cell_type": "code",
      "source": [
        "6+9<=2+13"
      ],
      "metadata": {
        "colab": {
          "base_uri": "https://localhost:8080/"
        },
        "id": "QGoB118Zc0l0",
        "outputId": "2bb5e011-d0fd-4126-c024-cae2b08fd64f"
      },
      "execution_count": 41,
      "outputs": [
        {
          "output_type": "execute_result",
          "data": {
            "text/plain": [
              "True"
            ]
          },
          "metadata": {},
          "execution_count": 41
        }
      ]
    },
    {
      "cell_type": "code",
      "source": [
        "6+9>=2+13"
      ],
      "metadata": {
        "colab": {
          "base_uri": "https://localhost:8080/"
        },
        "id": "b7gViC93dGMN",
        "outputId": "7381ca62-4758-46b8-de34-7f43bd33d8e5"
      },
      "execution_count": 42,
      "outputs": [
        {
          "output_type": "execute_result",
          "data": {
            "text/plain": [
              "True"
            ]
          },
          "metadata": {},
          "execution_count": 42
        }
      ]
    },
    {
      "cell_type": "code",
      "source": [
        ""
      ],
      "metadata": {
        "id": "aBPOxIDDdI4W"
      },
      "execution_count": null,
      "outputs": []
    }
  ]
}